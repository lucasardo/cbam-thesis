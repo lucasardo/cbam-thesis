{
 "cells": [
  {
   "cell_type": "markdown",
   "id": "1a5b6bc7",
   "metadata": {},
   "source": [
    "# CBAM Risk Analysis: East Asia & Pacific\n",
    "\n",
    "## Carbon Border Adjustment Mechanism Impact Assessment\n",
    "\n",
    "This notebook analyzes the vulnerability of East Asian and Pacific countries to the EU's Carbon Border Adjustment Mechanism (CBAM). The analysis combines multiple dimensions:\n",
    "\n",
    "- **Exposure**: CBAM exports relative to GDP and total exports\n",
    "- **Vulnerability**: Carbon intensity of electricity mix\n",
    "- **Adaptive Capacity**: Statistical capacity and innovation capability\n",
    "- **Economic Flexibility**: Trade elasticity\n",
    "\n",
    "---"
   ]
  },
  {
   "cell_type": "markdown",
   "id": "baa97013",
   "metadata": {},
   "source": [
    "## 1. Setup and Configuration"
   ]
  },
  {
   "cell_type": "code",
   "execution_count": null,
   "id": "1bf22fc2",
   "metadata": {},
   "outputs": [],
   "source": [
    "# Import required libraries\n",
    "import sys\n",
    "from pathlib import Path\n",
    "\n",
    "# Add src directory to path\n",
    "project_root = Path.cwd().parent if 'notebooks' in str(Path.cwd()) else Path.cwd()\n",
    "sys.path.insert(0, str(project_root / 'src'))\n",
    "\n",
    "# Import custom modules\n",
    "from data_loader import DataLoader\n",
    "from data_processing import DataProcessor\n",
    "from visualization import Visualizer\n",
    "from analysis import RiskAnalyzer\n",
    "from config import RESULTS_DIR\n",
    "\n",
    "# Standard imports\n",
    "import pandas as pd\n",
    "import numpy as np\n",
    "import matplotlib.pyplot as plt\n",
    "\n",
    "# Configure display options\n",
    "pd.set_option('display.max_columns', None)\n",
    "pd.set_option('display.max_rows', 50)\n",
    "pd.set_option('display.float_format', '{:.4f}'.format)\n",
    "\n",
    "print(\"✓ All modules imported successfully\")\n",
    "print(f\"✓ Project root: {project_root}\")"
   ]
  },
  {
   "cell_type": "markdown",
   "id": "eeaa50fb",
   "metadata": {},
   "source": [
    "## 2. Load Data\n",
    "\n",
    "Load all required datasets using the DataLoader class."
   ]
  },
  {
   "cell_type": "code",
   "execution_count": null,
   "id": "fe354876",
   "metadata": {},
   "outputs": [],
   "source": [
    "# Initialize data loader\n",
    "loader = DataLoader()\n",
    "\n",
    "# Load all datasets\n",
    "print(\"Loading datasets...\\n\")\n",
    "raw_data = loader.load_all()\n",
    "\n",
    "print(f\"\\n✓ Loaded {len(raw_data)} datasets successfully\")\n",
    "print(\"\\nDataset shapes:\")\n",
    "for name, df in raw_data.items():\n",
    "    print(f\"  {name:20s}: {df.shape}\")"
   ]
  },
  {
   "cell_type": "markdown",
   "id": "df961efd",
   "metadata": {},
   "source": [
    "## 3. Process Data\n",
    "\n",
    "Clean, transform, and prepare all datasets for analysis."
   ]
  },
  {
   "cell_type": "code",
   "execution_count": null,
   "id": "c3712cbb",
   "metadata": {},
   "outputs": [],
   "source": [
    "# Initialize processor\n",
    "processor = DataProcessor()\n",
    "\n",
    "# Process each dataset\n",
    "print(\"Processing datasets...\\n\")\n",
    "\n",
    "processed_data = {\n",
    "    'cbam_exports': processor.prepare_cbam_exports(raw_data['cbam_exports']),\n",
    "    'total_exports': processor.prepare_total_exports(raw_data['total_exports']),\n",
    "    'gdp': raw_data['gdp'],\n",
    "    'carbon_intensity': processor.prepare_carbon_intensity(raw_data['carbon_intensity']),\n",
    "    'spi': processor.prepare_spi(raw_data['spi']),\n",
    "    'patents': processor.prepare_patents(raw_data['patents']),\n",
    "    'population': processor.prepare_population(raw_data['population']),\n",
    "    'trade_elasticity': processor.prepare_trade_elasticity(raw_data['trade_elasticity'])\n",
    "}\n",
    "\n",
    "print(\"\\n✓ All datasets processed successfully\")"
   ]
  },
  {
   "cell_type": "markdown",
   "id": "3924b540",
   "metadata": {},
   "source": [
    "## 4. Exploratory Data Analysis\n",
    "\n",
    "### 4.1 CBAM Exports Analysis"
   ]
  },
  {
   "cell_type": "code",
   "execution_count": null,
   "id": "099b52e2",
   "metadata": {},
   "outputs": [],
   "source": [
    "# Initialize visualizer\n",
    "viz = Visualizer()\n",
    "\n",
    "# Display top CBAM exporters\n",
    "print(\"Top 10 CBAM Exporters to EU (2019):\")\n",
    "print(processed_data['cbam_exports'][['ReporterISO', 'CBAM Value (millions)']].head(10))\n",
    "\n",
    "# Visualize\n",
    "viz.create_bar_chart(\n",
    "    processed_data['cbam_exports'].head(15),\n",
    "    x_col='ReporterISO',\n",
    "    y_col='CBAM Value (millions)',\n",
    "    title='CBAM Export Value by Country (Top 15)',\n",
    "    ylabel='Export Value (millions USD)'\n",
    ")\n",
    "plt.show()"
   ]
  },
  {
   "cell_type": "markdown",
   "id": "0f50f2d1",
   "metadata": {},
   "source": [
    "### 4.2 CBAM Exports as Proportion of GDP"
   ]
  },
  {
   "cell_type": "code",
   "execution_count": null,
   "id": "47a5ae3c",
   "metadata": {},
   "outputs": [],
   "source": [
    "# Merge CBAM with GDP\n",
    "cbam_gdp = processor.merge_cbam_gdp(\n",
    "    processed_data['cbam_exports'],\n",
    "    processed_data['gdp']\n",
    ")\n",
    "\n",
    "print(\"CBAM Exports as % of GDP:\")\n",
    "print(cbam_gdp[['ReporterISO', 'ExpCBAMperGDP']].head(10))\n",
    "\n",
    "viz.create_bar_chart(\n",
    "    cbam_gdp,\n",
    "    x_col='ReporterISO',\n",
    "    y_col='ExpCBAMperGDP',\n",
    "    title='CBAM Exports as Proportion of GDP',\n",
    "    ylabel='Proportion of GDP',\n",
    "    sort_by='ExpCBAMperGDP',\n",
    "    ascending=False\n",
    ")\n",
    "plt.show()"
   ]
  },
  {
   "cell_type": "markdown",
   "id": "25374338",
   "metadata": {},
   "source": [
    "**Key Insight**: Countries where CBAM exports represent a higher proportion of GDP face greater economic exposure to carbon pricing mechanisms."
   ]
  },
  {
   "cell_type": "markdown",
   "id": "2382d1ab",
   "metadata": {},
   "source": [
    "### 4.3 CBAM Exports as Proportion of Total Exports"
   ]
  },
  {
   "cell_type": "code",
   "execution_count": null,
   "id": "389fdeb8",
   "metadata": {},
   "outputs": [],
   "source": [
    "# Merge total exports with CBAM\n",
    "cbam_total = processor.merge_cbam_total_exports(\n",
    "    processed_data['total_exports'],\n",
    "    processed_data['cbam_exports']\n",
    ")\n",
    "\n",
    "print(\"CBAM Exports as % of Total Exports:\")\n",
    "print(cbam_total[['ReporterISO', 'PctExpCBAM']].head(10))\n",
    "\n",
    "viz.create_bar_chart(\n",
    "    cbam_total,\n",
    "    x_col='ReporterISO',\n",
    "    y_col='PctExpCBAM',\n",
    "    title='CBAM Exports as Proportion of Total Exports',\n",
    "    ylabel='Proportion of Total Exports',\n",
    "    sort_by='PctExpCBAM',\n",
    "    ascending=False\n",
    ")\n",
    "plt.show()"
   ]
  },
  {
   "cell_type": "markdown",
   "id": "ed382f1a",
   "metadata": {},
   "source": [
    "### 4.4 Two-Dimensional Exposure Analysis"
   ]
  },
  {
   "cell_type": "code",
   "execution_count": null,
   "id": "a89af8d5",
   "metadata": {},
   "outputs": [],
   "source": [
    "# Merge both exposure metrics\n",
    "two_dim = pd.merge(cbam_total, cbam_gdp, on='ReporterISO', how='left')\n",
    "two_dim = two_dim[['ReporterISO', 'PctExpCBAM', 'ExpCBAMperGDP']].dropna()\n",
    "\n",
    "viz.create_scatter_plot(\n",
    "    two_dim,\n",
    "    x_col='PctExpCBAM',\n",
    "    y_col='ExpCBAMperGDP',\n",
    "    label_col='ReporterISO',\n",
    "    title='Two-Dimensional Exposure Analysis',\n",
    "    xlabel='CBAM Exports / Total Exports',\n",
    "    ylabel='CBAM Exports / GDP'\n",
    ")\n",
    "plt.show()"
   ]
  },
  {
   "cell_type": "markdown",
   "id": "fded3ba7",
   "metadata": {},
   "source": [
    "### 4.5 Carbon Intensity Analysis"
   ]
  },
  {
   "cell_type": "code",
   "execution_count": null,
   "id": "9731714e",
   "metadata": {},
   "outputs": [],
   "source": [
    "print(\"Carbon Intensity of Electricity (gCO2e/kWh):\")\n",
    "print(processed_data['carbon_intensity'][['Country Code', 'Carbon_Intensity']].head(10))\n",
    "\n",
    "viz.create_bar_chart(\n",
    "    processed_data['carbon_intensity'],\n",
    "    x_col='Country Code',\n",
    "    y_col='Carbon_Intensity',\n",
    "    title='Carbon Intensity of Electricity Mix',\n",
    "    ylabel='Carbon Intensity (gCO2e/kWh)',\n",
    "    sort_by='Carbon_Intensity',\n",
    "    ascending=False\n",
    ")\n",
    "plt.show()"
   ]
  },
  {
   "cell_type": "markdown",
   "id": "ca29a354",
   "metadata": {},
   "source": [
    "**Key Insight**: Higher carbon intensity indicates greater vulnerability to carbon border adjustments."
   ]
  },
  {
   "cell_type": "markdown",
   "id": "8193ae1f",
   "metadata": {},
   "source": [
    "## 5. Build Comprehensive Dataset\n",
    "\n",
    "Merge all dimensions into a single comprehensive dataset."
   ]
  },
  {
   "cell_type": "code",
   "execution_count": null,
   "id": "30c58b7b",
   "metadata": {},
   "outputs": [],
   "source": [
    "# Build comprehensive dataset\n",
    "comprehensive_df = processor.build_comprehensive_dataset(processed_data)\n",
    "\n",
    "print(\"Comprehensive Dataset:\")\n",
    "print(f\"Shape: {comprehensive_df.shape}\")\n",
    "print(f\"\\nColumns: {list(comprehensive_df.columns)}\")\n",
    "print(f\"\\nSample data:\")\n",
    "print(comprehensive_df[['Country Name', 'ExpCBAMperGDP', 'PctExpCBAM', \n",
    "                        'Carbon_Intensity', 'SPI_Score', 'PatPerCap', 'Trade_Elast']].head())"
   ]
  },
  {
   "cell_type": "markdown",
   "id": "33d20286",
   "metadata": {},
   "source": [
    "## 6. Normalize and Prepare for Analysis"
   ]
  },
  {
   "cell_type": "code",
   "execution_count": null,
   "id": "e3f017cb",
   "metadata": {},
   "outputs": [],
   "source": [
    "# Normalize columns for analysis\n",
    "analysis_df = processor.normalize_columns(comprehensive_df)\n",
    "\n",
    "# Create complementary scores (lower values = worse, so we invert)\n",
    "analysis_df = processor.create_complementary_scores(\n",
    "    analysis_df,\n",
    "    columns=['SPI_Score', 'PatPerCap']\n",
    ")\n",
    "\n",
    "# Drop original columns, keep complementary\n",
    "analysis_df = analysis_df.drop(columns=['SPI_Score', 'PatPerCap'], errors='ignore')\n",
    "\n",
    "print(\"Normalized dataset ready for risk analysis\")\n",
    "print(f\"Shape: {analysis_df.shape}\")\n",
    "print(f\"\\nNormalized columns sample:\")\n",
    "print(analysis_df[['Country Name', 'ExpCBAMperGDP', 'Carbon_Intensity', \n",
    "                   'SPI_Score_Compl', 'PatPerCap_Compl']].head())"
   ]
  },
  {
   "cell_type": "markdown",
   "id": "53aca257",
   "metadata": {},
   "source": [
    "## 7. Risk Index Calculation\n",
    "\n",
    "### 7.1 Baseline Risk Index"
   ]
  },
  {
   "cell_type": "code",
   "execution_count": null,
   "id": "423afd71",
   "metadata": {},
   "outputs": [],
   "source": [
    "# Initialize risk analyzer\n",
    "analyzer = RiskAnalyzer()\n",
    "\n",
    "# Calculate baseline risk index\n",
    "from config import WEIGHT_SCENARIOS\n",
    "\n",
    "baseline_weights = WEIGHT_SCENARIOS['baseline']\n",
    "print(\"Baseline weights:\")\n",
    "for component, weight in baseline_weights.items():\n",
    "    print(f\"  {component:20s}: {weight:.2%}\")\n",
    "\n",
    "# Calculate weighted index\n",
    "analysis_df = analyzer.calculate_weighted_index(\n",
    "    analysis_df,\n",
    "    baseline_weights,\n",
    "    index_name='CBAM_Risk_Index'\n",
    ")\n",
    "\n",
    "# Rank countries\n",
    "results_df = analyzer.rank_countries(\n",
    "    analysis_df,\n",
    "    index_col='CBAM_Risk_Index',\n",
    "    country_col='Country Name'\n",
    ")\n",
    "\n",
    "print(\"\\n\" + \"=\"*60)\n",
    "print(\"CBAM RISK INDEX RANKINGS\")\n",
    "print(\"=\"*60)\n",
    "print(results_df[['Rank', 'Country Name', 'CBAM_Risk_Index']].head(15))"
   ]
  },
  {
   "cell_type": "markdown",
   "id": "60169790",
   "metadata": {},
   "source": [
    "### 7.2 Visualize Risk Index"
   ]
  },
  {
   "cell_type": "code",
   "execution_count": null,
   "id": "00cb0f36",
   "metadata": {},
   "outputs": [],
   "source": [
    "viz.create_risk_index_chart(\n",
    "    results_df,\n",
    "    country_col='Country Name',\n",
    "    index_col='CBAM_Risk_Index',\n",
    "    save_path=RESULTS_DIR / 'cbam_risk_index.png'\n",
    ")\n",
    "plt.show()"
   ]
  },
  {
   "cell_type": "markdown",
   "id": "cffb990b",
   "metadata": {},
   "source": [
    "### 7.3 Summary Statistics"
   ]
  },
  {
   "cell_type": "code",
   "execution_count": null,
   "id": "d0cc71fb",
   "metadata": {},
   "outputs": [],
   "source": [
    "# Get summary statistics\n",
    "stats = analyzer.get_summary_statistics(results_df, 'CBAM_Risk_Index')\n",
    "print(\"\\nRisk Index Statistics:\")\n",
    "print(stats)"
   ]
  },
  {
   "cell_type": "markdown",
   "id": "d25c8ea5",
   "metadata": {},
   "source": [
    "### 7.4 Risk Categorization"
   ]
  },
  {
   "cell_type": "code",
   "execution_count": null,
   "id": "75c707e1",
   "metadata": {},
   "outputs": [],
   "source": [
    "# Categorize countries by risk level\n",
    "results_df = analyzer.categorize_risk(results_df, 'CBAM_Risk_Index')\n",
    "\n",
    "print(\"\\nCountries by Risk Category:\")\n",
    "print(results_df.groupby('RiskCategory')['Country Name'].apply(list))\n",
    "\n",
    "print(\"\\nRisk Category Distribution:\")\n",
    "print(results_df['RiskCategory'].value_counts())"
   ]
  },
  {
   "cell_type": "markdown",
   "id": "9ccf3515",
   "metadata": {},
   "source": [
    "## 8. Sensitivity Analysis\n",
    "\n",
    "Test how different weighting schemes affect the rankings."
   ]
  },
  {
   "cell_type": "code",
   "execution_count": null,
   "id": "f29aefb0",
   "metadata": {},
   "outputs": [],
   "source": [
    "# Run sensitivity analysis with all scenarios\n",
    "sensitivity_df = analyzer.run_sensitivity_analysis(analysis_df)\n",
    "\n",
    "# Display available scenarios\n",
    "scenario_cols = [col for col in sensitivity_df.columns if col.startswith('Index_')]\n",
    "print(f\"Generated {len(scenario_cols)} scenarios:\")\n",
    "for col in scenario_cols:\n",
    "    scenario_name = col.replace('Index_', '')\n",
    "    print(f\"  - {scenario_name}\")"
   ]
  },
  {
   "cell_type": "markdown",
   "id": "9683803e",
   "metadata": {},
   "source": [
    "### 8.1 Compare Scenario Rankings"
   ]
  },
  {
   "cell_type": "code",
   "execution_count": null,
   "id": "bd2fa709",
   "metadata": {},
   "outputs": [],
   "source": [
    "# Compare top countries across scenarios\n",
    "comparison = analyzer.compare_scenarios(\n",
    "    sensitivity_df,\n",
    "    scenario_cols=scenario_cols,\n",
    "    country_col='Country Name',\n",
    "    top_n=10\n",
    ")\n",
    "\n",
    "print(\"\\nTop 10 Countries - Ranking Comparison Across Scenarios:\")\n",
    "print(comparison)"
   ]
  },
  {
   "cell_type": "markdown",
   "id": "5553565e",
   "metadata": {},
   "source": [
    "### 8.2 Visualize Sensitivity Analysis"
   ]
  },
  {
   "cell_type": "code",
   "execution_count": null,
   "id": "5825f59d",
   "metadata": {},
   "outputs": [],
   "source": [
    "# Create scenario names for display\n",
    "scenario_names = [col.replace('Index_', '').replace('_', ' ').title() \n",
    "                 for col in scenario_cols]\n",
    "\n",
    "viz.create_sensitivity_comparison(\n",
    "    sensitivity_df,\n",
    "    country_col='Country Name',\n",
    "    scenario_cols=scenario_cols,\n",
    "    scenario_names=scenario_names,\n",
    "    save_path=RESULTS_DIR / 'sensitivity_analysis.png'\n",
    ")\n",
    "plt.show()"
   ]
  },
  {
   "cell_type": "markdown",
   "id": "57c14ecc",
   "metadata": {},
   "source": [
    "## 9. Risk Driver Analysis\n",
    "\n",
    "Identify the main risk factors for selected countries."
   ]
  },
  {
   "cell_type": "code",
   "execution_count": null,
   "id": "39306866",
   "metadata": {},
   "outputs": [],
   "source": [
    "# Select top 5 highest risk countries\n",
    "top_countries = results_df.nsmallest(5, 'Rank')['Country Name'].tolist()\n",
    "\n",
    "print(\"Risk Drivers for Top 5 Highest Risk Countries:\\n\")\n",
    "print(\"=\"*60)\n",
    "\n",
    "for country in top_countries:\n",
    "    print(f\"\\n{country}:\")\n",
    "    print(\"-\" * 40)\n",
    "    drivers = analyzer.identify_risk_drivers(\n",
    "        analysis_df,\n",
    "        country=country,\n",
    "        component_cols=['ExpCBAMperGDP', 'PctExpCBAM', 'Carbon_Intensity',\n",
    "                       'Trade_Elast', 'SPI_Score_Compl', 'PatPerCap_Compl']\n",
    "    )\n",
    "    for component, value in drivers.items():\n",
    "        print(f\"  {component:20s}: {value:.4f}\")"
   ]
  },
  {
   "cell_type": "markdown",
   "id": "2c7d431a",
   "metadata": {},
   "source": [
    "## 10. Generate Comprehensive Report"
   ]
  },
  {
   "cell_type": "code",
   "execution_count": null,
   "id": "eb3cb925",
   "metadata": {},
   "outputs": [],
   "source": [
    "# Generate comprehensive risk report\n",
    "report = analyzer.generate_risk_report(\n",
    "    results_df,\n",
    "    index_col='CBAM_Risk_Index',\n",
    "    country_col='Country Name',\n",
    "    top_n=5,\n",
    "    bottom_n=5\n",
    ")\n",
    "\n",
    "print(\"\\n\" + \"=\"*60)\n",
    "print(\"CBAM RISK ASSESSMENT - COMPREHENSIVE REPORT\")\n",
    "print(\"=\"*60)\n",
    "\n",
    "print(f\"\\nTotal countries analyzed: {report['total_countries']}\")\n",
    "print(f\"Mean risk index: {report['mean_risk']:.4f}\")\n",
    "print(f\"Median risk index: {report['median_risk']:.4f}\")\n",
    "\n",
    "print(\"\\n5 HIGHEST RISK COUNTRIES:\")\n",
    "print(report['highest_risk'].to_string(index=False))\n",
    "\n",
    "print(\"\\n5 LOWEST RISK COUNTRIES:\")\n",
    "print(report['lowest_risk'].to_string(index=False))"
   ]
  },
  {
   "cell_type": "markdown",
   "id": "e9d4eea9",
   "metadata": {},
   "source": [
    "## 11. Export Results"
   ]
  },
  {
   "cell_type": "code",
   "execution_count": null,
   "id": "3ad5d626",
   "metadata": {},
   "outputs": [],
   "source": [
    "# Export main results\n",
    "output_path = RESULTS_DIR / 'cbam_risk_analysis_results.xlsx'\n",
    "analyzer.export_results(\n",
    "    results_df[['Rank', 'Country Name', 'Country Code', 'CBAM_Risk_Index', 'RiskCategory',\n",
    "               'ExpCBAMperGDP', 'PctExpCBAM', 'Carbon_Intensity', \n",
    "               'Trade_Elast', 'SPI_Score_Compl', 'PatPerCap_Compl']],\n",
    "    output_path=output_path,\n",
    "    sheet_name='Risk Analysis'\n",
    ")\n",
    "\n",
    "print(f\"✓ Results exported to: {output_path}\")\n",
    "\n",
    "# Export sensitivity analysis\n",
    "sensitivity_output = RESULTS_DIR / 'sensitivity_analysis_results.xlsx'\n",
    "analyzer.export_results(\n",
    "    sensitivity_df,\n",
    "    output_path=sensitivity_output,\n",
    "    sheet_name='Sensitivity Analysis'\n",
    ")\n",
    "\n",
    "print(f\"✓ Sensitivity analysis exported to: {sensitivity_output}\")"
   ]
  },
  {
   "cell_type": "markdown",
   "id": "887771e8",
   "metadata": {},
   "source": [
    "## 12. Key Findings and Conclusions\n",
    "\n",
    "### Highest Risk Countries\n",
    "Based on the comprehensive risk index, the countries most vulnerable to CBAM impacts are those with:\n",
    "- High proportion of CBAM-covered exports relative to GDP and total exports\n",
    "- High carbon intensity in electricity production\n",
    "- Lower statistical and innovation capacity\n",
    "\n",
    "### Lowest Risk Countries\n",
    "Countries with lower risk profiles typically have:\n",
    "- Lower exposure through CBAM-covered exports\n",
    "- Cleaner electricity mix (lower carbon intensity)\n",
    "- Higher adaptive capacity (better statistics and innovation)\n",
    "\n",
    "### Policy Implications\n",
    "1. **High-risk countries** should prioritize:\n",
    "   - Decarbonization of electricity generation\n",
    "   - Export diversification strategies\n",
    "   - Strengthening statistical systems for carbon reporting\n",
    "   - Investing in green technologies and innovation\n",
    "\n",
    "2. **Medium-risk countries** should:\n",
    "   - Monitor CBAM implementation closely\n",
    "   - Begin transition planning for cleaner production\n",
    "   - Build capacity for carbon accounting\n",
    "\n",
    "3. **Regional cooperation** opportunities:\n",
    "   - Knowledge sharing on carbon reduction\n",
    "   - Joint capacity building initiatives\n",
    "   - Coordinated policy responses\n",
    "\n",
    "---\n",
    "\n",
    "**Note**: This analysis uses 2019 data. Results should be updated with latest available data for current policy decisions."
   ]
  }
 ],
 "metadata": {
  "language_info": {
   "name": "python"
  }
 },
 "nbformat": 4,
 "nbformat_minor": 5
}
